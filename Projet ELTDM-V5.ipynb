{
 "cells": [
  {
   "cell_type": "markdown",
   "metadata": {},
   "source": [
    "## Régression linéaire et Ridge distribué sur Spark"
   ]
  },
  {
   "cell_type": "markdown",
   "metadata": {},
   "source": [
    "### Partie 1 : Préliminaires"
   ]
  },
  {
   "cell_type": "code",
   "execution_count": 3,
   "metadata": {
    "collapsed": false
   },
   "outputs": [],
   "source": [
    "# Importation des librairies\n",
    "\n",
    "#from test_helper import Test\n",
    "import os.path\n",
    "import pandas as pd\n",
    "from pyspark.mllib.regression import LabeledPoint\n",
    "import numpy as np\n",
    "%matplotlib inline\n",
    "import matplotlib.pyplot as plt\n",
    "import matplotlib.cm as cm\n",
    "import time\n",
    "from pyspark.mllib.linalg import DenseVector\n",
    "import random"
   ]
  },
  {
   "cell_type": "markdown",
   "metadata": {},
   "source": [
    "### Création de la base\n",
    "\n",
    "On va créer une matrice avec 51 variables $(Y, X_1...X_{50})$ et 500 observations.\n",
    "Y est une combinaise linéaire de X1...X10 et est indépendant de X11...X50\n",
    "On rajoute une bruit, epsilon suivant une loi normale N(0, 50)"
   ]
  },
  {
   "cell_type": "code",
   "execution_count": 36,
   "metadata": {
    "collapsed": false
   },
   "outputs": [],
   "source": [
    "np.random.seed(1)\n",
    "dim=1000\n",
    "x = np.random.rand(dim, 20)*100\n",
    "beta = list(range(1,11)) + [0] * 10\n",
    "eps = np.random.normal(0,1,size=dim)\n",
    "y = x.dot(beta) + eps\n",
    "mat = np.c_[y,x]"
   ]
  },
  {
   "cell_type": "code",
   "execution_count": 24,
   "metadata": {
    "collapsed": false
   },
   "outputs": [
    {
     "name": "stdout",
     "output_type": "stream",
     "text": [
      "True\n",
      "500\n"
     ]
    }
   ],
   "source": [
    "data=sc.parallelize(mat) # On crée un RDD à partir de la matrice mat\n",
    "\n",
    "print(np.all(data.first()==mat[0])) # Test si on a bien la même chose (pour la première observation)\n",
    "nb_obs = data.count()\n",
    "print(nb_obs) # Nombre d'observations"
   ]
  },
  {
   "cell_type": "code",
   "execution_count": 25,
   "metadata": {
    "collapsed": false
   },
   "outputs": [],
   "source": [
    "# Fonction qui renvoie - un labeledPoint ie le label de l'observation\n",
    "#                      - l'ensemble des features de l'observation\n",
    "\n",
    "def feat_label_fun(line):\n",
    "    return LabeledPoint(line[0], line[1:])\n"
   ]
  },
  {
   "cell_type": "code",
   "execution_count": 26,
   "metadata": {
    "collapsed": false
   },
   "outputs": [
    {
     "name": "stdout",
     "output_type": "stream",
     "text": [
      "features: [41.7022004703,72.0324493442,0.0114374817345,30.2332572632,14.6755890817,9.23385947688,18.6260211378,34.5560727043,39.6767474231,53.8816734003,41.9194514403,68.5219500397,20.4452249732,87.8117436391,2.73875931979,67.0467510178,41.7304802367,55.8689828446,14.0386938595,19.8101489085,80.0744568676,96.8261575719,31.3424178159,69.2322615669,87.6389152296,89.4606663504,8.50442113698,3.90547832329,16.9830419565,87.8142503429,9.83468338331,42.1107625005,95.7889530151,53.3165284973,69.187711395,31.5515631006,68.6500927682,83.4625671897,1.82882773442,75.0144314945,98.8861088906,74.816565438,28.0443992064,78.9279328451,10.3226006578,44.7893526176,90.8595503093,29.3614148374,28.7775338586,13.0028572118]\n",
      "label: 1739.42242546\n"
     ]
    }
   ],
   "source": [
    "# On recup les features et le label de la première observation à titre d'exemple\n",
    "obs = data.take(1) # Sort les valeurs du rdd \n",
    "obs_labelisee = list(map(feat_label_fun, obs)) # on applique la fonction feat_label_fun au rdd\n",
    "features = obs_labelisee[0].features # on recupère les features\n",
    "label = obs_labelisee[0].label # on recupère les labels\n",
    "print(\"features: {0}\".format(features))\n",
    "print(\"label: {0}\".format(label))"
   ]
  },
  {
   "cell_type": "code",
   "execution_count": 27,
   "metadata": {
    "collapsed": false
   },
   "outputs": [],
   "source": [
    "# Même chose avec la base complète\n",
    "data_labelisee = data.map(feat_label_fun)\n",
    "labels = data_labelisee.map(lambda x: x.label)\n",
    "features = data_labelisee.map(lambda x: x.features)"
   ]
  },
  {
   "cell_type": "markdown",
   "metadata": {},
   "source": [
    "- On sépare les données en train et test (70%, 30%)\n",
    "- On va utiliser la fonction cache puisque nous allons accéder à ces RDD plusieurs fois pendant l'apprentissage (et donc gain de temps)"
   ]
  },
  {
   "cell_type": "code",
   "execution_count": 28,
   "metadata": {
    "collapsed": false
   },
   "outputs": [
    {
     "name": "stdout",
     "output_type": "stream",
     "text": [
      "(342, 158)\n"
     ]
    },
    {
     "data": {
      "text/plain": [
       "True"
      ]
     },
     "execution_count": 28,
     "metadata": {},
     "output_type": "execute_result"
    }
   ],
   "source": [
    "weights = [.7, 0.3]\n",
    "seed = 1\n",
    "train, test = data_labelisee.randomSplit(weights, seed)\n",
    "train.cache() \n",
    "test.cache()\n",
    "n_train = train.count()\n",
    "n_test = test.count()\n",
    "\n",
    "print (n_train, n_test)\n",
    "np.all(n_train + n_test==nb_obs) # On vérifie que la taille des deux jeux de données est égale à celle de\n",
    "                                         # la base complète"
   ]
  },
  {
   "cell_type": "code",
   "execution_count": 29,
   "metadata": {
    "collapsed": false
   },
   "outputs": [],
   "source": [
    "def squared_error(label, prediction):\n",
    "    \"\"\" Permet de calculer l'erreur de prédiction pour une observation\"\"\"\n",
    "    return (label - prediction)**2\n",
    "\n",
    "def calcRMSE(labels_and_preds):\n",
    "    \"\"\"Calcule le \"Root mean squared error\" d'un `RDD` (label, prediction)\"\"\"\n",
    "    return np.sqrt(labels_and_preds.map(lambda x: squared_error(x[0], x[1])).mean())"
   ]
  },
  {
   "cell_type": "markdown",
   "metadata": {},
   "source": [
    "### Partie 2 : Régression Linéaire\n",
    "\n",
    "Nous allons désormais effectuer une régression linéaire. Nous allons entrainer notre modèle en utilisant une descente de gradient : \n",
    "\n",
    "$$ \\scriptsize \\mathbf{\\beta}_{i+1} = \\mathbf{\\beta}_i - \\alpha_i \\sum_j (\\mathbf{\\beta}_i^\\top\\mathbf{x}_j  - y_j) \\mathbf{x}_j \\,.$$ où $ \\scriptsize i $ est le nombre d'itération \n",
    "\n",
    "- On implemente tout d'abord la fonction calculant de façon matricielle : $ \\scriptsize (\\mathbf{w}^\\top \\mathbf{x}_j - y_j) \\mathbf{x}_j \\, ,$ "
   ]
  },
  {
   "cell_type": "code",
   "execution_count": 30,
   "metadata": {
    "collapsed": false
   },
   "outputs": [],
   "source": [
    "def gradient_summand(beta, lp):\n",
    "    return (beta.dot(lp.features) - lp.label) * lp.features"
   ]
  },
  {
   "cell_type": "markdown",
   "metadata": {},
   "source": [
    "- Désormais on implemente la fonction `get_labeled_predictions` qui prend les coefficients et les observations (LabeledPoint) en input et retourne un tuple (label, prediction)."
   ]
  },
  {
   "cell_type": "code",
   "execution_count": 31,
   "metadata": {
    "collapsed": false
   },
   "outputs": [],
   "source": [
    "def get_labeled_prediction(beta, observation):\n",
    "    return (observation.label, beta.T.dot(observation.features))"
   ]
  },
  {
   "cell_type": "markdown",
   "metadata": {},
   "source": [
    "On implemente désormais la descente de gradient qui utilise les deux fonctions précédentes. Cette fonction prend en entrée une base d'apprentissage, un nombre d'itérations et alpha, le pas et retourne l'erreur commise sur cette base ainsi que les beta finaux. \n",
    "A chaque itération i, celle-ci calcule l'erreur RMSE sur la base. Notons qu'à la première itération, les $\\beta$ sont fixés à 0, ainsi le label n'est pas relié au features et le modèle prédit 0. L'erreur commise est donc potentiellement très grande."
   ]
  },
  {
   "cell_type": "code",
   "execution_count": 32,
   "metadata": {
    "collapsed": false,
    "scrolled": true
   },
   "outputs": [],
   "source": [
    "def linreg_gradient_descent(train_data, num_iters, alpha):\n",
    "    \n",
    "    n = train_data.count()                           # le nombre d'observation de la base train_data\n",
    "    d = len(train_data.take(1)[0].features)          # le nombre de features \n",
    "    beta = np.zeros(d)                                  # poids initiaux fixés à 0\n",
    "    error_train = np.zeros(num_iters)\n",
    "    \n",
    "    for i in range(num_iters):\n",
    "        labels_and_preds_train = train_data.map(lambda x: get_labeled_prediction(beta, x))\n",
    "        error_train[i] = calcRMSE(labels_and_preds_train)\n",
    "\n",
    "        gradient = train_data.map(lambda x: gradient_summand(beta, x)).sum()       # calcul du gradient\n",
    "        alpha_i = alpha / (n * np.sqrt(i+1))                                    # mise à jour du pas\n",
    "        beta = beta - alpha_i * gradient                                              # mise à jour des poids\n",
    "        \n",
    "    return beta, error_train"
   ]
  },
  {
   "cell_type": "code",
   "execution_count": 22,
   "metadata": {
    "collapsed": false
   },
   "outputs": [],
   "source": [
    "# create a toy dataset with n = 10, d = 3, and then run 5 iterations of gradient descent\n",
    "# note: the resulting model will not be useful; the goal here is to verify that\n",
    "# linregGradientDescent is working properly\n",
    "exampleN = 3\n",
    "exampleD = 10\n",
    "example_data = (sc.parallelize(train.take(exampleN))\n",
    "               .map(lambda lp: LabeledPoint(lp.label, lp.features[0:exampleD])))\n",
    "#print(\"example data\")\n",
    "#print(example_data.take(2))\n",
    "example_num_iters = 500\n",
    "alpha = 0.0001\n",
    "example_weights, example_error_train = linreg_gradient_descent(example_data, example_num_iters, alpha)\n",
    "#print(\"example weight\")\n",
    "#print(example_weights)\n",
    "#print(example_error_train)"
   ]
  },
  {
   "cell_type": "markdown",
   "metadata": {},
   "source": [
    "Now let's train a linear regression model on all of our training data and evaluate its accuracy on the validation set.  Note that the test set will not be used here.  If we evaluated the model on the test set, we would bias our final results.\n",
    "\n",
    "You have already done much of the required work: you computed the number of features; you created the training and validation datasets and computed their sizes; and you wrote a function to compute RMSE."
   ]
  },
  {
   "cell_type": "code",
   "execution_count": 33,
   "metadata": {
    "collapsed": false
   },
   "outputs": [
    {
     "name": "stdout",
     "output_type": "stream",
     "text": [
      "35.2144680023\n",
      "Validation RMSE\n",
      "54.704707901\n"
     ]
    }
   ],
   "source": [
    "num_iters = 500\n",
    "alpha = 0.0001\n",
    "now = time.time()\n",
    "weightsLR0, error_trainLR0 = linreg_gradient_descent(train, num_iters, alpha)\n",
    "print(time.time()-now)\n",
    "\n",
    "labels_and_preds = test.map(lambda x: get_labeled_prediction(weightsLR0, x))\n",
    "rmse_valLR0 = calcRMSE(labels_and_preds)\n",
    "\n",
    "print('Validation RMSE')\n",
    "print(rmse_valLR0)"
   ]
  },
  {
   "cell_type": "code",
   "execution_count": 34,
   "metadata": {
    "collapsed": false
   },
   "outputs": [
    {
     "name": "stdout",
     "output_type": "stream",
     "text": [
      "[  1.06692666e+00   1.77243769e+00   2.88443862e+00   3.94207168e+00\n",
      "   5.12882857e+00   5.72133512e+00   6.36776746e+00   7.45845114e+00\n",
      "   8.20449417e+00   9.38981744e+00   9.34879411e-02  -1.02898511e-02\n",
      "   3.75279599e-01   1.29082420e-01   3.87167599e-03  -2.60264999e-02\n",
      "   5.18177485e-02  -8.46749959e-02   1.20839825e-01   9.46102733e-02\n",
      "   2.95747910e-02  -3.24014283e-01   1.65071193e-01   2.26096843e-01\n",
      "  -1.06421116e-01   3.39203735e-01   3.15582358e-01  -1.01833497e-01\n",
      "  -1.04786123e-01   1.56473513e-01   3.03941067e-01   2.97982947e-01\n",
      "   3.82466762e-02   1.63354586e-01  -1.53558480e-02  -2.19561393e-01\n",
      "  -1.26842317e-02  -6.85992802e-02   1.21106336e-01   1.50584624e-01\n",
      "  -1.33511621e-01   1.24631679e-01   1.76233655e-01   1.24650913e-01\n",
      "   1.71925963e-01  -1.10793891e-01  -4.31562098e-03  -1.20255944e-01\n",
      "   4.56008573e-01   3.11726764e-01]\n"
     ]
    }
   ],
   "source": [
    "print(weightsLR0)"
   ]
  },
  {
   "cell_type": "markdown",
   "metadata": {},
   "source": [
    "We will look at the log of the training error as a function of iteration. The first scatter plot visualizes the logarithm of the training error for all 50 iterations.  The second plot shows the training error itself, focusing on the final 44 iterations."
   ]
  },
  {
   "cell_type": "code",
   "execution_count": null,
   "metadata": {
    "collapsed": true
   },
   "outputs": [],
   "source": [
    "def prepare_plot(xticks, yticks, figsize=(10.5, 6), hideLabels=False, gridColor='#999999',\n",
    "                gridWidth=1.0):\n",
    "    \"\"\"Template for generating the plot layout.\"\"\"\n",
    "    plt.close()\n",
    "    fig, ax = plt.subplots(figsize=figsize, facecolor='white', edgecolor='white')\n",
    "    ax.axes.tick_params(labelcolor='#999999', labelsize='10')\n",
    "    for axis, ticks in [(ax.get_xaxis(), xticks), (ax.get_yaxis(), yticks)]:\n",
    "        axis.set_ticks_position('none')\n",
    "        axis.set_ticks(ticks)\n",
    "        axis.label.set_color('#999999')\n",
    "        if hideLabels: axis.set_ticklabels([])\n",
    "    plt.grid(color=gridColor, linewidth=gridWidth, linestyle='-')\n",
    "    map(lambda position: ax.spines[position].set_visible(False), ['bottom', 'top', 'left', 'right'])\n",
    "    return fig, ax"
   ]
  },
  {
   "cell_type": "code",
   "execution_count": null,
   "metadata": {
    "collapsed": false
   },
   "outputs": [],
   "source": [
    "import numpy as np\n",
    "import matplotlib.pyplot as plt\n",
    "from matplotlib.colors import ListedColormap, Normalize\n",
    "from matplotlib.cm import get_cmap\n",
    "cmap = get_cmap('YlOrRd')\n",
    "\n",
    "norm = Normalize()\n",
    "prenorm = Normalize()\n",
    "clrs = cmap(np.asarray(norm(np.log(error_trainLR0))))[:,0:3]\n",
    "\n",
    "fig, ax = prepare_plot(np.arange(0, 60, 10), np.arange(0, 1, 1))\n",
    "ax.set_ylim(-1, 1)\n",
    "plt.scatter(range(0, num_iters), np.log(error_trainLR0), s=14**2, c=clrs, edgecolors='#888888', alpha=0.75)\n",
    "ax.set_xlabel('Iteration'), ax.set_ylabel(r'$\\log_e(error_trainLR0)$')\n",
    "pass"
   ]
  },
  {
   "cell_type": "code",
   "execution_count": null,
   "metadata": {
    "collapsed": false
   },
   "outputs": [],
   "source": [
    "norm = Normalize()\n",
    "clrs = cmap(np.asarray(norm(error_trainLR0[6:])))[:,0:3]\n",
    "\n",
    "fig, ax = prepare_plot(np.arange(0, 200, 10), np.arange(0, 210, 50))\n",
    "ax.set_ylim(0, 200)\n",
    "plt.scatter(range(0, num_iters-6), error_trainLR0[6:], s=14**2, c=clrs, edgecolors='#888888', alpha=0.75)\n",
    "ax.set_xticklabels(map(str, range(0, 200, 10)))\n",
    "ax.set_xlabel('Iteration'), ax.set_ylabel(r'Training Error')\n",
    "pass"
   ]
  },
  {
   "cell_type": "markdown",
   "metadata": {},
   "source": [
    "### Regression linéaire avec Mllib"
   ]
  },
  {
   "cell_type": "code",
   "execution_count": 15,
   "metadata": {
    "collapsed": false
   },
   "outputs": [],
   "source": [
    "from pyspark.mllib.regression import LinearRegressionWithSGD\n",
    "\n",
    "num_iters=200\n",
    "alpha = 0.0005  # step\n",
    "mini_batch_frac = 1.0  # prend toute la base pour la descente de gradient (pas d'aléa)\n",
    "reg = 0  # lambda\n",
    "reg_type = 'none'  # pas de regularisation\n",
    "use_intercept = False  # pas d'intercept"
   ]
  },
  {
   "cell_type": "code",
   "execution_count": 16,
   "metadata": {
    "collapsed": false
   },
   "outputs": [
    {
     "name": "stderr",
     "output_type": "stream",
     "text": [
      "/Users/noemiehaouzi/spark-2.0.2-bin-hadoop2.7/python/pyspark/mllib/regression.py:281: UserWarning: Deprecated in 2.0.0. Use ml.regression.LinearRegression.\n",
      "  warnings.warn(\"Deprecated in 2.0.0. Use ml.regression.LinearRegression.\")\n"
     ]
    },
    {
     "name": "stdout",
     "output_type": "stream",
     "text": [
      "4.14531207085\n",
      "[-8.95934318863e+158,-9.43163382163e+158,-8.90364480367e+158,-9.14978149653e+158,-9.62630753779e+158,-8.93095071675e+158,-9.2817076451e+158,-9.02410167264e+158,-9.34232191555e+158,-9.12002980337e+158,-9.16945538796e+158,-9.25838767941e+158,-8.46507944178e+158,-8.88487001702e+158,-9.67179266607e+158,-9.16002591742e+158,-8.85608989682e+158,-8.70169762331e+158,-9.53908329378e+158,-9.1970206925e+158,-8.8591975944e+158,-9.21808734671e+158,-9.14644578375e+158,-8.92509119649e+158,-9.00217813651e+158,-8.92434166335e+158,-8.86536713075e+158,-8.89033205959e+158,-8.90376433308e+158,-9.65325626342e+158,-9.31697365382e+158,-9.19923742604e+158,-8.99096451224e+158,-9.13446252925e+158,-9.60800834687e+158,-9.09311930439e+158,-8.88120854807e+158,-9.02127275369e+158,-8.98499383595e+158,-9.44060953446e+158,-8.89042088268e+158,-9.04434484695e+158,-8.73182422019e+158,-9.05378916977e+158,-9.04134275856e+158,-9.05635014813e+158,-9.16818294147e+158,-9.42098739919e+158,-9.17726224349e+158,-9.41408855508e+158]\n"
     ]
    }
   ],
   "source": [
    "now = time.time()\n",
    "modele_lineaire = LinearRegressionWithSGD.train(train, iterations=num_iters, step=alpha,\n",
    "                                           miniBatchFraction=mini_batch_frac, regParam=reg,\n",
    "                                           regType=reg_type, intercept=use_intercept)\n",
    "print(time.time()-now)\n",
    "\n",
    "# weightsLR1 stores the model weights; interceptLR1 stores the model intercept\n",
    "beta_lineaire = modele_lineaire.weights\n",
    "print beta_lineaire\n"
   ]
  },
  {
   "cell_type": "code",
   "execution_count": 85,
   "metadata": {
    "collapsed": false
   },
   "outputs": [
    {
     "name": "stdout",
     "output_type": "stream",
     "text": [
      "RMSE\n",
      "1.29046620562\n"
     ]
    }
   ],
   "source": [
    "labels_and_preds = test.map(lambda x: (x.label, modele_lineaire.predict(x.features)))\n",
    "rmse_test_lineaire = calcRMSE(labels_and_preds)\n",
    "\n",
    "print(\"RMSE\")\n",
    "print(rmse_test_lineaire)"
   ]
  },
  {
   "cell_type": "code",
   "execution_count": 82,
   "metadata": {
    "collapsed": false
   },
   "outputs": [
    {
     "data": {
      "image/png": "[encoded data removed]",
      "text/plain": [
       "<matplotlib.figure.Figure at 0x10d1a9110>"
      ]
     },
     "metadata": {},
     "output_type": "display_data"
    }
   ],
   "source": [
    "predictions = np.asarray(test\n",
    "                         .map(lambda lp: modele_lineaire.predict(lp.features))\n",
    "                         .collect())\n",
    "actual = np.asarray(test\n",
    "                    .map(lambda lp: lp.label)\n",
    "                    .collect())\n",
    "error = np.asarray(test\n",
    "                   .map(lambda lp: (lp.label, modele_lineaire.predict(lp.features)))\n",
    "                   .map(lambda (l, p): squared_error(l, p))\n",
    "                   .collect())\n",
    "\n",
    "norm = Normalize()\n",
    "clrs = cmap(np.asarray(norm(error)))[:,0:3]\n",
    "\n",
    "fig, ax = prepare_plot(np.arange(0, 4000, 200), np.arange(0, 4000, 200))\n",
    "ax.set_xlim(1400, 4000), ax.set_ylim(1000, 4000)\n",
    "plt.scatter(predictions, actual, s=14**2, c=clrs, edgecolors='#888888', alpha=0.75, linewidths=.5)\n",
    "ax.set_xlabel('Predicted'), ax.set_ylabel(r'Actual')\n",
    "pass"
   ]
  },
  {
   "cell_type": "markdown",
   "metadata": {},
   "source": [
    "### Partie 3 : Régression Ridge"
   ]
  },
  {
   "cell_type": "markdown",
   "metadata": {},
   "source": [
    "Dans cette partie, nous ajoutons une pénalisation de type L2 à la descente de gradient. Ainsi, l'estimateur de $\\beta$ par ridge par la régularisation L2 est solution de :\n",
    "$$ \\hat{\\beta}^{ridge} = \\underset{\\beta}{\\text{arg min}}  \\sum_{i=1}^n (y_i - x_i'\\beta)^2 + \\lambda \\sum_{j=1}^p \\beta_j^2  $$\n",
    "où $\\lambda$ désigne le niveau de pénalité : si $\\lambda$ tend vers 0, on retrouve l'estimateur des moindres carré. La relation à implémenter pour la descente de gradient associée à ce problème de minimisation est donc la suivante :\n",
    "$$ \\mathbf{\\beta}_{i+1} = \\mathbf{\\beta}_i - \\alpha_i \\sum_j (\\beta_i' x_j  - y_j) \\mathbf{x}_j + \\lambda \\beta$$ \n",
    "Nous allons implémenter la descente de gradient associée à cette nouvelle fonction à minimiser. Elle prend en input à nouveau, la base d'apprentissage, le nombre d'itérations à accomplir, le pas $\\alpha$ et le paramètre $\\lambda$.\n"
   ]
  },
  {
   "cell_type": "code",
   "execution_count": null,
   "metadata": {
    "collapsed": true
   },
   "outputs": [],
   "source": [
    "def descente_gradient_ridge(train_data, num_iters, alpha, lambda_param):\n",
    "    \"\"\"Calculates the weights and error for a linear regression model trained with gradient descent.\n",
    "\n",
    "    Note:\n",
    "        `DenseVector` behaves similarly to a `numpy.ndarray` and they can be used interchangably\n",
    "        within this function.  For example, they both implement the `dot` method.\n",
    "\n",
    "    Args:\n",
    "        trainData (RDD of LabeledPoint): The labeled data for use in training the model.\n",
    "        numIters (int): The number of iterations of gradient descent to perform.\n",
    "\n",
    "    Returns:\n",
    "        (np.ndarray, np.ndarray): A tuple of (weights, training errors).  Weights will be the\n",
    "            final weights (one weight per feature) for the model, and training errors will contain\n",
    "            an error (RMSE) for each iteration of the algorithm.\n",
    "    \"\"\"\n",
    "    # The length of the training data\n",
    "    n = train_data.count()\n",
    "    #print(n)\n",
    "    # The number of features in the training data\n",
    "    d = len(train_data.take(1)[0].features)\n",
    "    w = np.zeros(d)\n",
    "    alpha = alpha\n",
    "    # We will compute and store the training error after each iteration\n",
    "    error_train = np.zeros(num_iters)\n",
    "    for i in range(num_iters):\n",
    "        # Use getLabeledPrediction from (3b) with trainData to obtain an RDD of (label, prediction)\n",
    "        # tuples.  Note that the weights all equal 0 for the first iteration, so the predictions will\n",
    "        # have large errors to start.\n",
    "        labels_and_preds_train = train_data.map(lambda x: get_labeled_prediction(w, x))\n",
    "        error_train[i] = calcRMSE(labels_and_preds_train)\n",
    "\n",
    "        # Calculate the `gradient`.  Make use of the `gradientSummand` function you wrote in (3a).\n",
    "        # Note that `gradient` sould be a `DenseVector` of length `d`.\n",
    "        gradient = train_data.map(lambda x: gradient_summand(w, x)).sum()\n",
    "        gradient = gradient + lambda_param * w\n",
    "\n",
    "        # Update the weights\n",
    "        alpha_i = alpha / (n * np.sqrt(i+1))\n",
    "        w -= alpha_i * gradient\n",
    "        #print(w)\n",
    "        #print(alpha_i)\n",
    "    return w, error_train\n",
    "\n",
    "# create a toy dataset with n = 10, d = 3, and then run 5 iterations of gradient descent\n",
    "# note: the resulting model will not be useful; the goal here is to verify that\n",
    "# linregGradientDescent is working properly\n",
    "exampleN = 200\n",
    "exampleD = 10\n",
    "example_data = (sc\n",
    "               .parallelize(train.take(exampleN))\n",
    "               .map(lambda lp: LabeledPoint(lp.label, lp.features[0:exampleD])))\n",
    "example_num_iters = 500\n",
    "example_weights, example_error_train = descente_gradient_ridge(example_data, example_num_iters, 0.0001, 0.5)\n",
    "print(example_weights)\n",
    "print(\"error_train\")\n",
    "print(error_train)\n"
   ]
  },
  {
   "cell_type": "markdown",
   "metadata": {},
   "source": [
    "### Grid search avec descente de gradient ridge"
   ]
  },
  {
   "cell_type": "code",
   "execution_count": null,
   "metadata": {
    "collapsed": true
   },
   "outputs": [],
   "source": [
    "range_lambda = [0.01, 0.02, 0.03, 0.04, 0.05]\n",
    "\n",
    "weights = [.2, 0.8]\n",
    "seed = 123\n",
    "fold1, fold2 = train.randomSplit(weights, seed)\n",
    "\n",
    "fold1.cache() #pour que ce soit plus rapide...\n",
    "fold2.cache()\n",
    "\n",
    "alpha=0.0001\n",
    "num_iters = 200\n",
    "bestRMSE = 100000\n",
    "\n",
    "tmp = [fold1, fold2]\n",
    "erreur_moy = np.empty([len(range_lambda), 2])\n",
    "erreur_moy[:,0] = range_lambda\n",
    "j=0\n",
    "for reg in range_lambda:\n",
    "    #rmse = []\n",
    "    for i in [0,1]:\n",
    "        train_tmp = tmp[i]\n",
    "        val_tmp = tmp[-i]\n",
    "        w, erreur = descente_gradient_ridge(train_tmp, num_iters, alpha, reg)\n",
    "        labels_and_preds = val_tmp.map(lambda x: get_labeled_prediction(w, x))\n",
    "        print(calcRMSE(labels_and_preds))\n",
    "        rmse.append(calcRMSE(labels_and_preds))\n",
    "        \n",
    "    erreur_moy[j,1] = sum(rmse)/2.0        \n",
    "    print(j)\n",
    "    j = j+1\n",
    "\n",
    "print(erreur_moy)\n",
    "bestRMSE = min(erreur_moy[:,1])\n",
    "print(bestRMSE)\n",
    "best_reg_param = erreur_moy[np.argmin(erreur_moy[:,1]),0]\n",
    "print(best_reg_param)"
   ]
  },
  {
   "cell_type": "markdown",
   "metadata": {
    "collapsed": true
   },
   "source": [
    "### Ridge avec MLlib"
   ]
  },
  {
   "cell_type": "code",
   "execution_count": 92,
   "metadata": {
    "collapsed": true
   },
   "outputs": [],
   "source": [
    "num_iters=200\n",
    "alpha = 0.0005  # step\n",
    "mini_batch_frac = 1.0  # miniBatchFraction\n",
    "reg = 0.5  # lambda\n",
    "reg_type = 'l2'  # regularisation avec la norme L2\n",
    "use_intercept = False  # intercept"
   ]
  },
  {
   "cell_type": "code",
   "execution_count": 93,
   "metadata": {
    "collapsed": false
   },
   "outputs": [
    {
     "name": "stdout",
     "output_type": "stream",
     "text": [
      "1.08483719826\n",
      "[1.00240463749,2.00647035393,2.99361026269,4.00324193214,5.00238016096,6.00410522273,6.98651801215,8.00040102116,9.00131664892,9.99217005346]\n"
     ]
    }
   ],
   "source": [
    "now = time.time()\n",
    "modele_L2 = LinearRegressionWithSGD.train(train, iterations=num_iters, step=alpha,\n",
    "                                           miniBatchFraction=mini_batch_frac, regParam=reg,\n",
    "                                           regType=reg_type, intercept=use_intercept)\n",
    "print(time.time()-now)\n",
    "\n",
    "# weightsLR1 stores the model weights; interceptLR1 stores the model intercept\n",
    "beta_L2 = modele_L2.weights\n",
    "print beta_L2\n"
   ]
  },
  {
   "cell_type": "code",
   "execution_count": 94,
   "metadata": {
    "collapsed": false
   },
   "outputs": [
    {
     "name": "stdout",
     "output_type": "stream",
     "text": [
      "RMSE\n",
      "1.18474832832\n"
     ]
    }
   ],
   "source": [
    "labels_and_preds = test.map(lambda x: (x.label, modele_L2.predict(x.features)))\n",
    "rmse_test_L2 = calcRMSE(labels_and_preds)\n",
    "\n",
    "print(\"RMSE\")\n",
    "print(rmse_test_L2)"
   ]
  },
  {
   "cell_type": "markdown",
   "metadata": {},
   "source": [
    "### Grid search avec mllib"
   ]
  },
  {
   "cell_type": "code",
   "execution_count": null,
   "metadata": {
    "collapsed": false
   },
   "outputs": [],
   "source": [
    "range_lambda = [0.01, 0.1, 0.5, 0.7, 1, 1.5, 2]\n",
    "\n",
    "weights = [.2, 0.8]\n",
    "seed = 123\n",
    "fold1, fold2 = train.randomSplit(weights, seed)\n",
    "\n",
    "fold1.cache() #pour que ce soit plus rapide...\n",
    "fold2.cache()\n",
    "\n",
    "num_iters=200\n",
    "alpha = 0.0005  # step\n",
    "mini_batch_frac = 1.0  # miniBatchFraction\n",
    "reg = 0.5  # lambda\n",
    "reg_type = 'l2'  # regularisation avec la norme L2\n",
    "use_intercept = False  # interceptbestRMSE = 100000\n",
    "\n",
    "tmp = [fold1, fold2]\n",
    "erreur_moy = np.empty([len(range_lambda), 2])\n",
    "erreur_moy[:,0] = range_lambda\n",
    "j=0\n",
    "\n",
    "now = time.time()\n",
    "for reg in range_lambda:\n",
    "    rmse = []\n",
    "    for i in [0,1]:\n",
    "        train_tmp = tmp[i]\n",
    "        val_tmp = tmp[-i]\n",
    "        modele = LinearRegressionWithSGD.train(train, iterations=num_iters, step=alpha,\n",
    "                                           miniBatchFraction=mini_batch_frac, regParam=reg,\n",
    "                                           regType=reg_type, intercept=use_intercept)\n",
    "        labels_and_preds = test.map(lambda x: (x.label, modele.predict(x.features)))\n",
    "        rmse.append(calcRMSE(labels_and_preds))\n",
    "        \n",
    "    erreur_moy[j,1] = sum(rmse)/2.0        \n",
    "    print(j)\n",
    "    j = j+1\n",
    "print(time.time()-now)\n",
    "    \n",
    "print(erreur_moy)\n",
    "bestRMSE_mllib = min(erreur_moy[:,1])\n",
    "print(bestRMSE_mllib)\n",
    "best_reg_param_mllib = erreur_moy[np.argmin(erreur_moy[:,1]),0]\n",
    "print(best_reg_param_mllib)"
   ]
  }
 ],
 "metadata": {
  "anaconda-cloud": {},
  "kernelspec": {
   "display_name": "Python 2",
   "language": "python",
   "name": "python2"
  },
  "language_info": {
   "codemirror_mode": {
    "name": "ipython",
    "version": 2
   },
   "file_extension": ".py",
   "mimetype": "text/x-python",
   "name": "python",
   "nbconvert_exporter": "python",
   "pygments_lexer": "ipython2",
   "version": "2.7.12"
  }
 },
 "nbformat": 4,
 "nbformat_minor": 0
}
